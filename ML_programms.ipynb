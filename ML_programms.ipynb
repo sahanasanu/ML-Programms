{
  "nbformat": 4,
  "nbformat_minor": 0,
  "metadata": {
    "colab": {
      "name": "ML programms.ipynb",
      "provenance": [],
      "authorship_tag": "ABX9TyNwZylitt0N2a8ZjM2GFj/6",
      "include_colab_link": true
    },
    "kernelspec": {
      "name": "python3",
      "display_name": "Python 3"
    }
  },
  "cells": [
    {
      "cell_type": "markdown",
      "metadata": {
        "id": "view-in-github",
        "colab_type": "text"
      },
      "source": [
        "<a href=\"https://colab.research.google.com/github/sahanasanu/ML-Programms/blob/master/ML_programms.ipynb\" target=\"_parent\"><img src=\"https://colab.research.google.com/assets/colab-badge.svg\" alt=\"Open In Colab\"/></a>"
      ]
    },
    {
      "cell_type": "markdown",
      "metadata": {
        "id": "md1qfQ37dXCN",
        "colab_type": "text"
      },
      "source": [
        "write  a python program which accepts the users first and last name and print them in reverse order with a space between them"
      ]
    },
    {
      "cell_type": "code",
      "metadata": {
        "id": "m9duoUUmdZAQ",
        "colab_type": "code",
        "colab": {
          "base_uri": "https://localhost:8080/",
          "height": 69
        },
        "outputId": "70e77dc0-0a1f-4a52-d1ed-489db174c282"
      },
      "source": [
        "firstname=input(\"enter the first name\") \n",
        "lastname=input(\"enter the last name\") \n",
        "fn=firstname[::-1] \n",
        "ln=lastname[::-1] \n",
        "print(fn,\"\",ln)"
      ],
      "execution_count": 1,
      "outputs": [
        {
          "output_type": "stream",
          "text": [
            "enter the first namesahana\n",
            "enter the last namegowda\n",
            "anahas  adwog\n"
          ],
          "name": "stdout"
        }
      ]
    },
    {
      "cell_type": "code",
      "metadata": {
        "id": "X-y1jLXRdTTv",
        "colab_type": "code",
        "colab": {}
      },
      "source": [
        ""
      ],
      "execution_count": null,
      "outputs": []
    },
    {
      "cell_type": "markdown",
      "metadata": {
        "id": "BZlGOQZ-dv0J",
        "colab_type": "text"
      },
      "source": [
        "write a python program to calculate number of days between two dates"
      ]
    },
    {
      "cell_type": "code",
      "metadata": {
        "id": "hE0Ve1Vgd-Ab",
        "colab_type": "code",
        "colab": {
          "base_uri": "https://localhost:8080/",
          "height": 35
        },
        "outputId": "39618c71-9200-4961-dc7d-749713a0fffc"
      },
      "source": [
        "from datetime import date\n",
        "d0=date(2020,8,18)\n",
        "d1=date(2020,9,26)\n",
        "delta=d1-d0\n",
        "print(delta.days)"
      ],
      "execution_count": 2,
      "outputs": [
        {
          "output_type": "stream",
          "text": [
            "39\n"
          ],
          "name": "stdout"
        }
      ]
    },
    {
      "cell_type": "markdown",
      "metadata": {
        "id": "0Pxh7TkceiN3",
        "colab_type": "text"
      },
      "source": [
        "write a python program to test whether a passed letter is a vowel or not"
      ]
    },
    {
      "cell_type": "code",
      "metadata": {
        "id": "r8udA0FiewPR",
        "colab_type": "code",
        "colab": {
          "base_uri": "https://localhost:8080/",
          "height": 52
        },
        "outputId": "9e8d17a0-7ad7-4edf-95c7-bd959db6619c"
      },
      "source": [
        " ch = input(\" Enter a Character : \")\n",
        "\n",
        "if(ch == 'a' or ch == 'e' or ch == 'i' or ch == 'o' or ch == 'u' or ch == 'A'\n",
        "       or ch == 'E' or ch == 'I' or ch == 'O' or ch == 'U'):\n",
        "    print(ch, \"is a Vowel\")\n",
        "else:\n",
        "    print(ch, \"is a not a vowel\")"
      ],
      "execution_count": 4,
      "outputs": [
        {
          "output_type": "stream",
          "text": [
            " Enter a Character : A\n",
            "A is a Vowel\n"
          ],
          "name": "stdout"
        }
      ]
    },
    {
      "cell_type": "markdown",
      "metadata": {
        "id": "uissQxiUe-9Z",
        "colab_type": "text"
      },
      "source": [
        "Write a python program to sum of three given integers however if two values are equal sum will be 0"
      ]
    },
    {
      "cell_type": "code",
      "metadata": {
        "id": "_i3v2N_BfO-7",
        "colab_type": "code",
        "colab": {
          "base_uri": "https://localhost:8080/",
          "height": 87
        },
        "outputId": "ac61ca0e-d661-49a7-9d6a-956b9d24a99f"
      },
      "source": [
        "def sum(x, y, z):\n",
        "    if x == y or y == z or x==z:\n",
        "        sum = 0\n",
        "    else:\n",
        "        sum = x + y + z\n",
        "    return sum\n",
        "x=int(input(\"enter first number :\"))\n",
        "y=int(input(\"enter second number :\"))\n",
        "z=int(input(\"enter third number :\"))\n",
        "print(\"sum is\",sum(x, y, z))\n"
      ],
      "execution_count": 5,
      "outputs": [
        {
          "output_type": "stream",
          "text": [
            "enter first number :2\n",
            "enter second number :2\n",
            "enter third number :5\n",
            "sum is 0\n"
          ],
          "name": "stdout"
        }
      ]
    },
    {
      "cell_type": "markdown",
      "metadata": {
        "id": "K2aSxpmOfZJz",
        "colab_type": "text"
      },
      "source": [
        "write a python program to count the number of charaters (character frequency )in string"
      ]
    },
    {
      "cell_type": "code",
      "metadata": {
        "id": "iNeDVvJEfoqu",
        "colab_type": "code",
        "colab": {
          "base_uri": "https://localhost:8080/",
          "height": 69
        },
        "outputId": "2840f2a2-1ac9-40a3-83cd-31b5347f62d5"
      },
      "source": [
        "test_str = input(\"Enter the string :\")\n",
        "all_freq = {} \n",
        "for i in test_str: \n",
        "    if i in all_freq: \n",
        "        all_freq[i] += 1\n",
        "    else: \n",
        "        all_freq[i] = 1\n",
        "print (\"Count of all characters is :\\n \"+  str(all_freq))"
      ],
      "execution_count": 6,
      "outputs": [
        {
          "output_type": "stream",
          "text": [
            "Enter the string :harry potter\n",
            "Count of all characters is :\n",
            " {'h': 1, 'a': 1, 'r': 3, 'y': 1, ' ': 1, 'p': 1, 'o': 1, 't': 2, 'e': 1}\n"
          ],
          "name": "stdout"
        }
      ]
    },
    {
      "cell_type": "markdown",
      "metadata": {
        "id": "ck4YRYSbdUZU",
        "colab_type": "text"
      },
      "source": [
        ""
      ]
    }
  ]
}